{
 "cells": [
  {
   "cell_type": "markdown",
   "id": "3f31b747-ba3e-4112-96b9-0f766f6c40ca",
   "metadata": {},
   "source": [
    "# MC_Issues framework demo"
   ]
  },
  {
   "cell_type": "code",
   "execution_count": 1,
   "id": "e0525ddc-a7a1-4df9-81fd-71078c348097",
   "metadata": {},
   "outputs": [],
   "source": [
    "from issues.test_issues import IntIssue, StringIssue\n",
    "from random import choice\n",
    "from string import ascii_uppercase"
   ]
  },
  {
   "cell_type": "markdown",
   "id": "490dd91a-d05c-40f5-ae2b-7fcaeea56ed8",
   "metadata": {},
   "source": [
    "## use metric_type.calculate_all(payload) get all issues found with a payload"
   ]
  },
  {
   "cell_type": "code",
   "execution_count": 2,
   "id": "3b5dc4fc-11f5-445c-b2f8-630631c4f71a",
   "metadata": {},
   "outputs": [
    {
     "name": "stdout",
     "output_type": "stream",
     "text": [
      "WJWXUKPQ is too short\n",
      "WJWXUKPQ contains duplicate letters\n",
      "WJWXUKPQ does not contain the letter 'a'\n",
      "##########\n",
      "XRLGWCFXHPO is too long\n",
      "XRLGWCFXHPO contains duplicate letters\n",
      "XRLGWCFXHPO does not contain the letter 'a'\n",
      "##########\n",
      "SMZFYHS is too short\n",
      "SMZFYHS contains duplicate letters\n",
      "SMZFYHS does not contain the letter 'a'\n",
      "##########\n",
      "TJUHPMOFROGA is too long\n",
      "TJUHPMOFROGA contains duplicate letters\n",
      "##########\n",
      "DLLRPLKFJOZHR is too long\n",
      "DLLRPLKFJOZHR contains duplicate letters\n",
      "DLLRPLKFJOZHR does not contain the letter 'a'\n",
      "##########\n",
      "OAPHXE is too short\n",
      "##########\n",
      "QQGUTWZ is too short\n",
      "QQGUTWZ contains duplicate letters\n",
      "QQGUTWZ does not contain the letter 'a'\n",
      "##########\n",
      "OHTRTTYGW is too short\n",
      "OHTRTTYGW contains duplicate letters\n",
      "OHTRTTYGW does not contain the letter 'a'\n",
      "##########\n",
      "JXAQMODCKTJPB is too long\n",
      "JXAQMODCKTJPB contains duplicate letters\n",
      "##########\n",
      "XWMTLEDA is too short\n",
      "##########\n"
     ]
    }
   ],
   "source": [
    "refs = []\n",
    "for i in range(10):\n",
    "    s = ''.join(choice(ascii_uppercase) for i in range(choice(list(range(5,15)))))\n",
    "    r = StringIssue.calculate_all(s)\n",
    "    refs.append(r)\n",
    "    if len(r) != 0:\n",
    "        print(\"\\n\".join(r_[\"template\"] for r_ in r))\n",
    "    else:\n",
    "        print(f'No issues for {s}')\n",
    "    print(\"#\"*10)"
   ]
  },
  {
   "cell_type": "markdown",
   "id": "6029b8f6-9688-408c-b279-c79a569a5e61",
   "metadata": {},
   "source": [
    "## Use include_tags to only run on certain kinds of issue"
   ]
  },
  {
   "cell_type": "code",
   "execution_count": 3,
   "id": "82ed21b3-168c-4a19-a3af-2de4c08151a9",
   "metadata": {},
   "outputs": [
    {
     "name": "stdout",
     "output_type": "stream",
     "text": [
      "No issues for AFLKJ\n",
      "##########\n",
      "LUKWYMRUAQGAYW contains duplicate letters\n",
      "##########\n",
      "WFFWYCCTBW contains duplicate letters\n",
      "WFFWYCCTBW does not contain the letter 'a'\n",
      "##########\n",
      "GINIJHEHMFFZ contains duplicate letters\n",
      "GINIJHEHMFFZ does not contain the letter 'a'\n",
      "##########\n",
      "IMYTIPDSMJOPGS contains duplicate letters\n",
      "IMYTIPDSMJOPGS does not contain the letter 'a'\n",
      "##########\n",
      "YGLNSHKLDSWQ contains duplicate letters\n",
      "YGLNSHKLDSWQ does not contain the letter 'a'\n",
      "##########\n",
      "MGBNWY does not contain the letter 'a'\n",
      "##########\n",
      "YOVOTYHQ contains duplicate letters\n",
      "YOVOTYHQ does not contain the letter 'a'\n",
      "##########\n",
      "NARFBTVPVSWKF contains duplicate letters\n",
      "##########\n",
      "OTVXPOJLWUOT contains duplicate letters\n",
      "OTVXPOJLWUOT does not contain the letter 'a'\n",
      "##########\n"
     ]
    }
   ],
   "source": [
    "for i in range(10):\n",
    "    s = ''.join(choice(ascii_uppercase) for i in range(choice(list(range(5,15)))))\n",
    "    r = StringIssue.calculate_all(s, include_tags=[\"letter\"])\n",
    "    if len(r) != 0:\n",
    "        print(\"\\n\".join(r_[\"template\"] for r_ in r))\n",
    "    else:\n",
    "        print(f'No issues for {s}')\n",
    "    print(\"#\"*10)"
   ]
  },
  {
   "cell_type": "markdown",
   "id": "18f61ce2-66bb-4407-9533-6ce8247f37f2",
   "metadata": {},
   "source": [
    "## And use exclude_tags to limit what kinds of issues you're checking for"
   ]
  },
  {
   "cell_type": "code",
   "execution_count": 4,
   "id": "3557ecfe-d35b-4062-b437-df3dee4cd004",
   "metadata": {},
   "outputs": [
    {
     "name": "stdout",
     "output_type": "stream",
     "text": [
      "JLQTEYAW is too short\n",
      "##########\n",
      "NNWUBUDOXWIJ is too long\n",
      "##########\n",
      "INEJQRFLKKR is too long\n",
      "##########\n",
      "ANOHMBHH is too short\n",
      "##########\n",
      "HLTOBFCPONDH is too long\n",
      "##########\n",
      "TUSQCI is too short\n",
      "##########\n",
      "EGSRG is too short\n",
      "##########\n",
      "CQIRTRJEXZZDB is too long\n",
      "##########\n",
      "IDIJWS is too short\n",
      "##########\n",
      "KOLYFUNOGLFVS is too long\n",
      "##########\n"
     ]
    }
   ],
   "source": [
    "for i in range(10):\n",
    "    s = ''.join(choice(ascii_uppercase) for i in range(choice(list(range(5,15)))))\n",
    "    r = StringIssue.calculate_all(s, exclude_tags=[\"letter\"])\n",
    "    if len(r) != 0:\n",
    "        print(\"\\n\".join(r_[\"template\"] for r_ in r))\n",
    "    else:\n",
    "        print(f'No issues for {s}')\n",
    "    print(\"#\"*10)"
   ]
  },
  {
   "cell_type": "markdown",
   "id": "dd7fbb82-a825-499b-b0bc-b815ef12ae31",
   "metadata": {},
   "source": [
    "## The framework tries to catch and report errors in issue calculation gracefully\n",
    "Note that execution isn't halted- we just log an error, and report that the issue didn't calculate right. "
   ]
  },
  {
   "cell_type": "code",
   "execution_count": 15,
   "id": "f129620f-51fd-411f-82a0-e3e340ecd7c9",
   "metadata": {},
   "outputs": [
    {
     "name": "stderr",
     "output_type": "stream",
     "text": [
      "ERROR:issues:Error calculating issue broken_issue for payload 3: Intentional Error\n",
      "Traceback (most recent call last):\n",
      "  File \"/Users/pgulley/Projects/directory-issues/issues/__init__.py\", line 62, in calculate_all\n",
      "    is_issue, result_data = issue_instance.calculate(payload)\n",
      "                            ^^^^^^^^^^^^^^^^^^^^^^^^^^^^^^^^^\n",
      "  File \"/Users/pgulley/Projects/directory-issues/issues/test_issues.py\", line 63, in calculate\n",
      "    raise RuntimeError(\"Intentional Error\")\n",
      "RuntimeError: Intentional Error\n"
     ]
    },
    {
     "name": "stdout",
     "output_type": "stream",
     "text": [
      "[{'issue_name': 'is_even', 'template': '2 is even', 'tags': []}]\n",
      "[{'issue_name': 'broken_issue', 'tags': ['breaking'], 'error': True, 'error_message': 'Intentional Error', 'template': \"An error occurred while calculating 'broken_issue'\"}]\n",
      "[{'issue_name': 'is_even', 'template': '8 is even', 'tags': []}]\n"
     ]
    }
   ],
   "source": [
    "print(IntIssue.calculate_all(2, exclude_tags=[\"breaking\"]))\n",
    "print(IntIssue.calculate_all(3))\n",
    "print(IntIssue.calculate_all(8, exclude_tags=[\"breaking\"]))"
   ]
  },
  {
   "cell_type": "markdown",
   "id": "e75b59ff-e446-42f3-8b32-34ea22ee7a75",
   "metadata": {},
   "source": [
    "# Usage:\n",
    "\n",
    "We shouldn't need very many extensions on the base issue class- we'll certainly need a SourceIssue, FeedIssue, and a CollectionIssue but that's probably it. \n",
    "Regardless, generating one is a two-liner: "
   ]
  },
  {
   "cell_type": "code",
   "execution_count": 6,
   "id": "b4b7fcdd-2098-416e-b930-d68261a085d1",
   "metadata": {},
   "outputs": [],
   "source": [
    "from issues import IssueBase\n",
    "from typing import TypeVar, Tuple, Generic, Type, Dict, Callable, List, Any\n",
    "\n",
    "class FloatIssue(IssueBase[float]):\n",
    "    _ISSUES: Dict[str, Type[\"FloatIssue\"]] = {}\n"
   ]
  },
  {
   "cell_type": "markdown",
   "id": "2d5a29eb-9f4a-4b8b-91eb-4d7279eaa658",
   "metadata": {},
   "source": [
    "Then actually implimenting the issue cases requires creating a class with just two methods- `calculate(payload)` and `render_template()`, then decorating it correctly:"
   ]
  },
  {
   "cell_type": "code",
   "execution_count": 7,
   "id": "38b59781-ef9d-43cc-a235-1956099a56cb",
   "metadata": {},
   "outputs": [],
   "source": [
    "@FloatIssue.register(\"decimal_places\", tags=['decimal'])\n",
    "class DecimalPlaces(FloatIssue):\n",
    "    def calculate(self, payload:float) -> Tuple[bool, Dict]:        \n",
    "        \"\"\"\n",
    "        NB the return signature: Tuple[bool, Any]\n",
    "        bool is ultimately interpreted as \"is_issue\" - if false, the result is skipped\n",
    "        Dict is the input provided to the render template\n",
    "        \"\"\"\n",
    "        num, dec = str(payload).split(\".\")\n",
    "        exp = len(dec)\n",
    "    \n",
    "        return exp > 2, {'value':payload, \"exp\":exp}\n",
    "\n",
    "    def render_template(self):\n",
    "        return f\"{self.result['value']} has too many decimal places ({self.result['exp']})\"\n",
    "\n",
    "\n",
    "@FloatIssue.register(\"negative\")\n",
    "class NegativeFloat(FloatIssue):\n",
    "    def calculate(self, payload:float):\n",
    "        return payload < 0, {'value':payload}\n",
    "\n",
    "    def render_template(self):\n",
    "        return f\"{self.result['value']} is negative\"\n",
    "            "
   ]
  },
  {
   "cell_type": "code",
   "execution_count": 8,
   "id": "46130d0d-31cd-46d9-b711-a33a66ec5f87",
   "metadata": {},
   "outputs": [
    {
     "name": "stdout",
     "output_type": "stream",
     "text": [
      "[]\n",
      "[{'issue_name': 'negative', 'template': '-4.7 is negative', 'tags': []}]\n",
      "[{'issue_name': 'decimal_places', 'template': '1.24525 has too many decimal places (5)', 'tags': ['decimal']}]\n"
     ]
    }
   ],
   "source": [
    "for i in (1.2, -4.7 ,1.24525):\n",
    "    r = FloatIssue.calculate_all(i)\n",
    "    print(r)"
   ]
  },
  {
   "cell_type": "markdown",
   "id": "f352b57d-2bc4-4655-81de-c17187241ec5",
   "metadata": {},
   "source": [
    "At dev time, you should only be calling an issue from the calculate_all method- there's no need to ever call issue.calculate or issue.render_template directly. \n"
   ]
  },
  {
   "cell_type": "code",
   "execution_count": 9,
   "id": "b0a54f10-5fcc-450b-94a6-5c655e434b87",
   "metadata": {},
   "outputs": [
    {
     "name": "stdout",
     "output_type": "stream",
     "text": [
      "[{'issue_name': 'long_str', 'template': 'TJUHPMOFROGA is too long', 'tags': []}, {'issue_name': 'dup_letter', 'template': 'TJUHPMOFROGA contains duplicate letters', 'tags': ['letter']}]\n"
     ]
    }
   ],
   "source": [
    "print(refs[3])"
   ]
  },
  {
   "cell_type": "code",
   "execution_count": null,
   "id": "ffe81085-7ecd-4049-b78c-f6fb0838c1be",
   "metadata": {},
   "outputs": [],
   "source": []
  }
 ],
 "metadata": {
  "kernelspec": {
   "display_name": "Python 3 (ipykernel)",
   "language": "python",
   "name": "python3"
  },
  "language_info": {
   "codemirror_mode": {
    "name": "ipython",
    "version": 3
   },
   "file_extension": ".py",
   "mimetype": "text/x-python",
   "name": "python",
   "nbconvert_exporter": "python",
   "pygments_lexer": "ipython3",
   "version": "3.11.9"
  }
 },
 "nbformat": 4,
 "nbformat_minor": 5
}
