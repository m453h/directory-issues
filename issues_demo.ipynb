{
 "cells": [
  {
   "cell_type": "markdown",
   "id": "3f31b747-ba3e-4112-96b9-0f766f6c40ca",
   "metadata": {},
   "source": [
    "# MC_Issues framework demo"
   ]
  },
  {
   "cell_type": "code",
   "execution_count": 1,
   "id": "e0525ddc-a7a1-4df9-81fd-71078c348097",
   "metadata": {},
   "outputs": [],
   "source": [
    "from test_issues import IntIssue, StringIssue\n",
    "from random import choice\n",
    "from string import ascii_uppercase"
   ]
  },
  {
   "cell_type": "markdown",
   "id": "490dd91a-d05c-40f5-ae2b-7fcaeea56ed8",
   "metadata": {},
   "source": [
    "## use metric_type.calculate_all(payload) get all issues found with a payload"
   ]
  },
  {
   "cell_type": "code",
   "execution_count": 10,
   "id": "3b5dc4fc-11f5-445c-b2f8-630631c4f71a",
   "metadata": {},
   "outputs": [
    {
     "name": "stdout",
     "output_type": "stream",
     "text": [
      "VIXAQVSUMUKWQU is too long\n",
      "VIXAQVSUMUKWQU contains duplicate letters\n",
      "##########\n",
      "WFDJDLYIHF contains duplicate letters\n",
      "WFDJDLYIHF does not contain the letter 'a'\n",
      "##########\n",
      "TWMFJGXRDZSASH is too long\n",
      "TWMFJGXRDZSASH contains duplicate letters\n",
      "##########\n",
      "NKVKSRTJEXJ is too long\n",
      "NKVKSRTJEXJ contains duplicate letters\n",
      "NKVKSRTJEXJ does not contain the letter 'a'\n",
      "##########\n",
      "SRWIOQBW is too short\n",
      "SRWIOQBW contains duplicate letters\n",
      "SRWIOQBW does not contain the letter 'a'\n",
      "##########\n",
      "CAIFQBQWVLUOUD is too long\n",
      "CAIFQBQWVLUOUD contains duplicate letters\n",
      "##########\n",
      "YSVAGQUO is too short\n",
      "##########\n",
      "YARWMVQW is too short\n",
      "YARWMVQW contains duplicate letters\n",
      "##########\n",
      "CIAQMWWEGN contains duplicate letters\n",
      "##########\n",
      "QMRTOU is too short\n",
      "QMRTOU does not contain the letter 'a'\n",
      "##########\n"
     ]
    }
   ],
   "source": [
    "refs = []\n",
    "for i in range(10):\n",
    "    s = ''.join(choice(ascii_uppercase) for i in range(choice(list(range(5,15)))))\n",
    "    r = StringIssue.calculate_all(s)\n",
    "    refs.append(r)\n",
    "    if len(r) != 0:\n",
    "        print(\"\\n\".join(r_[\"template\"] for r_ in r))\n",
    "    else:\n",
    "        print(f'No issues for {s}')\n",
    "    print(\"#\"*10)"
   ]
  },
  {
   "cell_type": "markdown",
   "id": "6029b8f6-9688-408c-b279-c79a569a5e61",
   "metadata": {},
   "source": [
    "## Use include_tags to only run on certain kinds of issue"
   ]
  },
  {
   "cell_type": "code",
   "execution_count": 3,
   "id": "82ed21b3-168c-4a19-a3af-2de4c08151a9",
   "metadata": {},
   "outputs": [
    {
     "name": "stdout",
     "output_type": "stream",
     "text": [
      "OCYCWNCX contains duplicate letters\n",
      "OCYCWNCX does not contain the letter 'a'\n",
      "##########\n",
      "MKQLS does not contain the letter 'a'\n",
      "##########\n",
      "LLGUJZOGQ contains duplicate letters\n",
      "LLGUJZOGQ does not contain the letter 'a'\n",
      "##########\n",
      "ZCGIZSFD contains duplicate letters\n",
      "ZCGIZSFD does not contain the letter 'a'\n",
      "##########\n",
      "XNZNC contains duplicate letters\n",
      "XNZNC does not contain the letter 'a'\n",
      "##########\n",
      "DJSSPBMUJSWOV contains duplicate letters\n",
      "DJSSPBMUJSWOV does not contain the letter 'a'\n",
      "##########\n",
      "RWFOVYWXKP contains duplicate letters\n",
      "RWFOVYWXKP does not contain the letter 'a'\n",
      "##########\n",
      "MZELWGJKKJYD contains duplicate letters\n",
      "MZELWGJKKJYD does not contain the letter 'a'\n",
      "##########\n",
      "TQLYTDOXDPIBW contains duplicate letters\n",
      "TQLYTDOXDPIBW does not contain the letter 'a'\n",
      "##########\n",
      "KKAVVYOGJVRHNG contains duplicate letters\n",
      "##########\n"
     ]
    }
   ],
   "source": [
    "for i in range(10):\n",
    "    s = ''.join(choice(ascii_uppercase) for i in range(choice(list(range(5,15)))))\n",
    "    r = StringIssue.calculate_all(s, include_tags=[\"letter\"])\n",
    "    if len(r) != 0:\n",
    "        print(\"\\n\".join(r_[\"template\"] for r_ in r))\n",
    "    else:\n",
    "        print(f'No issues for {s}')\n",
    "    print(\"#\"*10)"
   ]
  },
  {
   "cell_type": "markdown",
   "id": "18f61ce2-66bb-4407-9533-6ce8247f37f2",
   "metadata": {},
   "source": [
    "## And use exclude_tags to limit what kinds of issues you're checking for"
   ]
  },
  {
   "cell_type": "code",
   "execution_count": 4,
   "id": "3557ecfe-d35b-4062-b437-df3dee4cd004",
   "metadata": {},
   "outputs": [
    {
     "name": "stdout",
     "output_type": "stream",
     "text": [
      "MVZZRPN is too short\n",
      "##########\n",
      "AZLOPWRDZ is too short\n",
      "##########\n",
      "GJWGJFV is too short\n",
      "##########\n",
      "FWYQPR is too short\n",
      "##########\n",
      "FPGAXRUHUEZTI is too long\n",
      "##########\n",
      "JQUARU is too short\n",
      "##########\n",
      "No issues for LLRGRACHNX\n",
      "##########\n",
      "UARQAZAAR is too short\n",
      "##########\n",
      "XZSDUHJ is too short\n",
      "##########\n",
      "VEHYVKBTH is too short\n",
      "##########\n"
     ]
    }
   ],
   "source": [
    "for i in range(10):\n",
    "    s = ''.join(choice(ascii_uppercase) for i in range(choice(list(range(5,15)))))\n",
    "    r = StringIssue.calculate_all(s, exclude_tags=[\"letter\"])\n",
    "    if len(r) != 0:\n",
    "        print(\"\\n\".join(r_[\"template\"] for r_ in r))\n",
    "    else:\n",
    "        print(f'No issues for {s}')\n",
    "    print(\"#\"*10)"
   ]
  },
  {
   "cell_type": "markdown",
   "id": "dd7fbb82-a825-499b-b0bc-b815ef12ae31",
   "metadata": {},
   "source": [
    "## The framework tries to catch and report errors in issue calculation gracefully\n",
    "Note that execution isn't halted- we just log an error, and report that the issue didn't calculate right. "
   ]
  },
  {
   "cell_type": "code",
   "execution_count": 5,
   "id": "f129620f-51fd-411f-82a0-e3e340ecd7c9",
   "metadata": {},
   "outputs": [
    {
     "name": "stderr",
     "output_type": "stream",
     "text": [
      "ERROR:issues:Error calculating issue broken_issue for payload 3: Intentional Error\n",
      "Traceback (most recent call last):\n",
      "  File \"/Users/pgulley/Projects/directory-issues/issues.py\", line 62, in calculate_all\n",
      "    is_issue, result_data = issue_instance.calculate(payload)\n",
      "                            ^^^^^^^^^^^^^^^^^^^^^^^^^^^^^^^^^\n",
      "  File \"/Users/pgulley/Projects/directory-issues/test_issues.py\", line 63, in calculate\n",
      "    raise RuntimeError(\"Intentional Error\")\n",
      "RuntimeError: Intentional Error\n"
     ]
    },
    {
     "name": "stdout",
     "output_type": "stream",
     "text": [
      "[{'issue_name': 'is_even', 'template': '2 is even', 'tags': []}]\n",
      "[{'issue_name': 'broken_issue', 'tags': ['breaking'], 'error': True, 'error_message': 'Intentional Error', 'template': \"An error occurred while calculating 'broken_issue'\"}]\n"
     ]
    }
   ],
   "source": [
    "print(IntIssue.calculate_all(2, exclude_tags=[\"breaking\"]))\n",
    "print(IntIssue.calculate_all(3))"
   ]
  },
  {
   "cell_type": "markdown",
   "id": "e75b59ff-e446-42f3-8b32-34ea22ee7a75",
   "metadata": {},
   "source": [
    "# Usage:\n",
    "\n",
    "We shouldn't need very many extensions on the base issue class- we'll certainly need a SourceIssue, FeedIssue, and a CollectionIssue but that's probably it. \n",
    "Regardless, generating one is a two-liner: "
   ]
  },
  {
   "cell_type": "code",
   "execution_count": 6,
   "id": "b4b7fcdd-2098-416e-b930-d68261a085d1",
   "metadata": {},
   "outputs": [],
   "source": [
    "from issues import IssueBase\n",
    "from typing import TypeVar, Tuple, Generic, Type, Dict, Callable, List, Any\n",
    "\n",
    "class FloatIssue(IssueBase[float]):\n",
    "    _ISSUES: Dict[str, Type[\"FloatIssue\"]] = {}\n"
   ]
  },
  {
   "cell_type": "markdown",
   "id": "2d5a29eb-9f4a-4b8b-91eb-4d7279eaa658",
   "metadata": {},
   "source": [
    "Then actually implimenting the issue cases requires creating a class with just two methods- `calculate(payload)` and `render_template()`, then decorating it correctly:"
   ]
  },
  {
   "cell_type": "code",
   "execution_count": 7,
   "id": "38b59781-ef9d-43cc-a235-1956099a56cb",
   "metadata": {},
   "outputs": [],
   "source": [
    "@FloatIssue.register(\"decimal_places\", tags=['decimal'])\n",
    "class DecimalPlaces(FloatIssue):\n",
    "    def calculate(self, payload:float) -> Tuple[bool, Dict]:        \n",
    "        \"\"\"\n",
    "        NB the return signature: Tuple[bool, Any]\n",
    "        bool is ultimately interpreted as \"is_issue\" - if false, the result is skipped\n",
    "        Dict is the input provided to the render template\n",
    "        \"\"\"\n",
    "        num, dec = str(payload).split(\".\")\n",
    "        exp = len(dec)\n",
    "    \n",
    "        return exp > 2, {'value':payload, \"exp\":exp}\n",
    "\n",
    "    def render_template(self):\n",
    "        return f\"{self.result['value']} has too many decimal places ({self.result['exp']})\"\n",
    "\n",
    "\n",
    "@FloatIssue.register(\"negative\")\n",
    "class NegativeFloat(FloatIssue):\n",
    "    def calculate(self, payload:float):\n",
    "        return payload < 0, {'value':payload}\n",
    "\n",
    "    def render_template(self):\n",
    "        return f\"{self.result['value']} is negative\"\n",
    "            "
   ]
  },
  {
   "cell_type": "code",
   "execution_count": 8,
   "id": "46130d0d-31cd-46d9-b711-a33a66ec5f87",
   "metadata": {},
   "outputs": [
    {
     "name": "stdout",
     "output_type": "stream",
     "text": [
      "[]\n",
      "[{'issue_name': 'negative', 'template': '-4.7 is negative', 'tags': []}]\n",
      "[{'issue_name': 'decimal_places', 'template': '1.24525 has too many decimal places (5)', 'tags': ['decimal']}]\n"
     ]
    }
   ],
   "source": [
    "for i in (1.2, -4.7 ,1.24525):\n",
    "    r = FloatIssue.calculate_all(i)\n",
    "    print(r)"
   ]
  },
  {
   "cell_type": "markdown",
   "id": "f352b57d-2bc4-4655-81de-c17187241ec5",
   "metadata": {},
   "source": [
    "At dev time, you should only be calling an issue from the calculate_all method- there's no need to ever call issue.calculate or issue.render_template directly. \n"
   ]
  },
  {
   "cell_type": "code",
   "execution_count": 13,
   "id": "b0a54f10-5fcc-450b-94a6-5c655e434b87",
   "metadata": {},
   "outputs": [
    {
     "name": "stdout",
     "output_type": "stream",
     "text": [
      "[{'issue_name': 'long_str', 'template': 'NKVKSRTJEXJ is too long', 'tags': []}, {'issue_name': 'dup_letter', 'template': 'NKVKSRTJEXJ contains duplicate letters', 'tags': ['letter']}, {'issue_name': 'no_a', 'template': \"NKVKSRTJEXJ does not contain the letter 'a'\", 'tags': ['letter']}]\n"
     ]
    }
   ],
   "source": [
    "print(refs[3])"
   ]
  },
  {
   "cell_type": "code",
   "execution_count": 14,
   "id": "f5d04f5d-3fa8-4a75-97ca-aa2935913688",
   "metadata": {},
   "outputs": [],
   "source": [
    "from collections import defaultdict\n",
    "\n",
    "def group_issues(issues):\n",
    "    grouped_issues = defaultdict(list)\n",
    "    for issue in issues:\n",
    "        primary_tag = issue['tags'][0] if issue['tags'] else 'no_tag'\n",
    "        grouped_issues[primary_tag].append(issue['template'])\n",
    "    return grouped_issues"
   ]
  },
  {
   "cell_type": "code",
   "execution_count": 17,
   "id": "0159a7bf-dfab-43e1-bc7b-ea90acf6590c",
   "metadata": {},
   "outputs": [],
   "source": [
    "t = group_issues(refs[3])"
   ]
  },
  {
   "cell_type": "code",
   "execution_count": 18,
   "id": "0c78db67-536c-4fd6-8afb-da305be3f73c",
   "metadata": {},
   "outputs": [
    {
     "data": {
      "text/plain": [
       "['NKVKSRTJEXJ is too long']"
      ]
     },
     "execution_count": 18,
     "metadata": {},
     "output_type": "execute_result"
    }
   ],
   "source": [
    "t[\"no_tag\"]"
   ]
  },
  {
   "cell_type": "code",
   "execution_count": 19,
   "id": "2792be82-dd45-4277-affc-ada2f77da5d2",
   "metadata": {},
   "outputs": [
    {
     "data": {
      "text/plain": [
       "defaultdict(list,\n",
       "            {'no_tag': ['NKVKSRTJEXJ is too long'],\n",
       "             'letter': ['NKVKSRTJEXJ contains duplicate letters',\n",
       "              \"NKVKSRTJEXJ does not contain the letter 'a'\"]})"
      ]
     },
     "execution_count": 19,
     "metadata": {},
     "output_type": "execute_result"
    }
   ],
   "source": [
    "t"
   ]
  },
  {
   "cell_type": "code",
   "execution_count": 20,
   "id": "1bfaaf6f-5768-4e5b-aaa9-9b8b2b9391cb",
   "metadata": {},
   "outputs": [
    {
     "name": "stdout",
     "output_type": "stream",
     "text": [
      "hi\n"
     ]
    }
   ],
   "source": [
    "if not None: print('hi')"
   ]
  },
  {
   "cell_type": "code",
   "execution_count": null,
   "id": "ffe81085-7ecd-4049-b78c-f6fb0838c1be",
   "metadata": {},
   "outputs": [],
   "source": []
  }
 ],
 "metadata": {
  "kernelspec": {
   "display_name": "Python 3 (ipykernel)",
   "language": "python",
   "name": "python3"
  },
  "language_info": {
   "codemirror_mode": {
    "name": "ipython",
    "version": 3
   },
   "file_extension": ".py",
   "mimetype": "text/x-python",
   "name": "python",
   "nbconvert_exporter": "python",
   "pygments_lexer": "ipython3",
   "version": "3.11.9"
  }
 },
 "nbformat": 4,
 "nbformat_minor": 5
}
