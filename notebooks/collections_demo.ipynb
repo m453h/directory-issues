{
 "cells": [
  {
   "cell_type": "markdown",
   "id": "de589ae3-3da2-4a74-89ac-3e9caf02810b",
   "metadata": {},
   "source": [
    "# Collection interface example\n",
    "A walk through using the Collection api to populate the data we want for issue detection"
   ]
  },
  {
   "cell_type": "code",
   "execution_count": null,
   "id": "b770bd69-fe1c-45c2-95f8-c742e9b333be",
   "metadata": {},
   "outputs": [],
   "source": [
    "%pip install -q -e  ../. \n",
    "import os\n",
    "os.environ[\"MC_API_TOKEN\"]=\"BYO\"\n",
    "\n",
    "from directory_issues import Collection, Source"
   ]
  },
  {
   "cell_type": "code",
   "execution_count": null,
   "id": "3b9f35fb-1d27-4371-8c0e-aa0483f61970",
   "metadata": {},
   "outputs": [],
   "source": [
    "ky_sl = Collection.from_id(38381360)"
   ]
  },
  {
   "cell_type": "code",
   "execution_count": null,
   "id": "f6d617e8-cf93-4f24-bb21-ca0e263ed4b4",
   "metadata": {},
   "outputs": [],
   "source": [
    "ky_sl.find_all_issues()"
   ]
  },
  {
   "cell_type": "code",
   "execution_count": null,
   "id": "cbccd057-9a7c-45d9-aa96-25c34fb1cd82",
   "metadata": {},
   "outputs": [],
   "source": [
    "templates = ky_sl.render_source_templates()\n",
    "import random\n",
    "\n",
    "from IPython.display import HTML\n",
    "\n",
    "HTML(random.choice(templates))"
   ]
  },
  {
   "cell_type": "code",
   "execution_count": null,
   "id": "3d4ce4cd-5519-4f14-bfe5-bafcb111a169",
   "metadata": {},
   "outputs": [],
   "source": [
    "import time\n",
    "s = time.time()\n",
    "source = Source.from_id(6, skip_volume=False, skip_feeds=False)\n",
    "e = time.time()\n",
    "print(e-s)"
   ]
  },
  {
   "cell_type": "code",
   "execution_count": null,
   "id": "bb85f710-8a96-4eb0-8c21-625e3c769b01",
   "metadata": {},
   "outputs": [],
   "source": [
    "source.source_volume"
   ]
  },
  {
   "cell_type": "code",
   "execution_count": null,
   "id": "ae170269-1ba2-4c1c-9f6f-c8d8c2fba1e0",
   "metadata": {},
   "outputs": [],
   "source": []
  }
 ],
 "metadata": {
  "kernelspec": {
   "display_name": "Python 3 (ipykernel)",
   "language": "python",
   "name": "python3"
  },
  "language_info": {
   "codemirror_mode": {
    "name": "ipython",
    "version": 3
   },
   "file_extension": ".py",
   "mimetype": "text/x-python",
   "name": "python",
   "nbconvert_exporter": "python",
   "pygments_lexer": "ipython3",
   "version": "3.11.6"
  }
 },
 "nbformat": 4,
 "nbformat_minor": 5
}
