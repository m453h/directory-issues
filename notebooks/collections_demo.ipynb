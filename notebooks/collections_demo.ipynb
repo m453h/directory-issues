{
 "cells": [
  {
   "cell_type": "markdown",
   "id": "de589ae3-3da2-4a74-89ac-3e9caf02810b",
   "metadata": {},
   "source": [
    "# Collection interface example\n",
    "A walk through using the Collection api to populate the data we want for issue detection"
   ]
  },
  {
   "cell_type": "code",
   "execution_count": 1,
   "id": "b770bd69-fe1c-45c2-95f8-c742e9b333be",
   "metadata": {},
   "outputs": [
    {
     "name": "stdout",
     "output_type": "stream",
     "text": [
      "\n",
      "\u001b[1m[\u001b[0m\u001b[34;49mnotice\u001b[0m\u001b[1;39;49m]\u001b[0m\u001b[39;49m A new release of pip is available: \u001b[0m\u001b[31;49m24.0\u001b[0m\u001b[39;49m -> \u001b[0m\u001b[32;49m24.3.1\u001b[0m\n",
      "\u001b[1m[\u001b[0m\u001b[34;49mnotice\u001b[0m\u001b[1;39;49m]\u001b[0m\u001b[39;49m To update, run: \u001b[0m\u001b[32;49mpython3.11 -m pip install --upgrade pip\u001b[0m\n",
      "Note: you may need to restart the kernel to use updated packages.\n",
      "zammad_token='' zammad_url='https://support.mediacloud.org/api/v1/' default_zammad_group='Users' default_zammad_user='Directory Detective' default_zammad_email='support@mediacloud.org'\n"
     ]
    }
   ],
   "source": [
    "%pip install -q -e  ../. \n",
    "import os\n",
    "os.environ[\"MC_API_TOKEN\"]=\"BYO\"\n",
    "\n",
    "from directory_issues import Collection, Source"
   ]
  },
  {
   "cell_type": "code",
   "execution_count": 2,
   "id": "3b9f35fb-1d27-4371-8c0e-aa0483f61970",
   "metadata": {},
   "outputs": [],
   "source": [
    "ky_sl = Collection.from_id(38381360)"
   ]
  },
  {
   "cell_type": "code",
   "execution_count": 3,
   "id": "f6d617e8-cf93-4f24-bb21-ca0e263ed4b4",
   "metadata": {},
   "outputs": [],
   "source": [
    "ky_sl.find_all_issues()"
   ]
  },
  {
   "cell_type": "code",
   "execution_count": 4,
   "id": "cbccd057-9a7c-45d9-aa96-25c34fb1cd82",
   "metadata": {},
   "outputs": [
    {
     "data": {
      "text/html": [
       "<body>\n",
       "<h1>adairprogress.com : 06:48PM on November 25, 2024</h1>\n",
       "\n",
       "<a href='https://search.mediacloud.org/sources/1361805'> adairprogress.com </a> \n",
       "\n",
       "\n",
       "\n",
       "</body>"
      ],
      "text/plain": [
       "<IPython.core.display.HTML object>"
      ]
     },
     "execution_count": 4,
     "metadata": {},
     "output_type": "execute_result"
    }
   ],
   "source": [
    "templates = ky_sl.render_source_templates()\n",
    "import random\n",
    "\n",
    "from IPython.display import HTML\n",
    "\n",
    "HTML(random.choice(templates))"
   ]
  },
  {
   "cell_type": "code",
   "execution_count": 9,
   "id": "3d4ce4cd-5519-4f14-bfe5-bafcb111a169",
   "metadata": {},
   "outputs": [
    {
     "name": "stdout",
     "output_type": "stream",
     "text": [
      "2.838069200515747\n"
     ]
    }
   ],
   "source": [
    "import time\n",
    "s = time.time()\n",
    "source = Source.from_id(6, skip_volume=False, skip_feeds=False)\n",
    "e = time.time()\n",
    "print(e-s)"
   ]
  },
  {
   "cell_type": "code",
   "execution_count": 6,
   "id": "bb85f710-8a96-4eb0-8c21-625e3c769b01",
   "metadata": {},
   "outputs": [
    {
     "data": {
      "text/plain": [
       "SourceVolume(182134 stories)"
      ]
     },
     "execution_count": 6,
     "metadata": {},
     "output_type": "execute_result"
    }
   ],
   "source": [
    "source.source_volume"
   ]
  },
  {
   "cell_type": "code",
   "execution_count": null,
   "id": "ae170269-1ba2-4c1c-9f6f-c8d8c2fba1e0",
   "metadata": {},
   "outputs": [],
   "source": []
  }
 ],
 "metadata": {
  "kernelspec": {
   "display_name": "Python 3 (ipykernel)",
   "language": "python",
   "name": "python3"
  },
  "language_info": {
   "codemirror_mode": {
    "name": "ipython",
    "version": 3
   },
   "file_extension": ".py",
   "mimetype": "text/x-python",
   "name": "python",
   "nbconvert_exporter": "python",
   "pygments_lexer": "ipython3",
   "version": "3.11.9"
  }
 },
 "nbformat": 4,
 "nbformat_minor": 5
}
