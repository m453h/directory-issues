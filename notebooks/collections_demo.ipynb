{
 "cells": [
  {
   "cell_type": "markdown",
   "id": "de589ae3-3da2-4a74-89ac-3e9caf02810b",
   "metadata": {},
   "source": [
    "# Collection interface example\n",
    "A walk through using the Collection api to populate the data we want for issue detection"
   ]
  },
  {
   "cell_type": "code",
   "execution_count": 7,
   "id": "b770bd69-fe1c-45c2-95f8-c742e9b333be",
   "metadata": {},
   "outputs": [
    {
     "name": "stdout",
     "output_type": "stream",
     "text": [
      "\n",
      "\u001b[1m[\u001b[0m\u001b[34;49mnotice\u001b[0m\u001b[1;39;49m]\u001b[0m\u001b[39;49m A new release of pip is available: \u001b[0m\u001b[31;49m24.0\u001b[0m\u001b[39;49m -> \u001b[0m\u001b[32;49m24.3.1\u001b[0m\n",
      "\u001b[1m[\u001b[0m\u001b[34;49mnotice\u001b[0m\u001b[1;39;49m]\u001b[0m\u001b[39;49m To update, run: \u001b[0m\u001b[32;49mpython3.11 -m pip install --upgrade pip\u001b[0m\n",
      "Note: you may need to restart the kernel to use updated packages.\n"
     ]
    }
   ],
   "source": [
    "%pip install -q -e  ../. \n",
    "import os\n",
    "os.environ[\"MC_API_TOKEN\"]=\"BYO\"\n",
    "\n",
    "from directory_issues import Collection, Source"
   ]
  },
  {
   "cell_type": "code",
   "execution_count": 8,
   "id": "3b9f35fb-1d27-4371-8c0e-aa0483f61970",
   "metadata": {},
   "outputs": [
    {
     "ename": "RuntimeError",
     "evalue": "API Server Error 401. Params: None",
     "output_type": "error",
     "traceback": [
      "\u001b[0;31m---------------------------------------------------------------------------\u001b[0m",
      "\u001b[0;31mRuntimeError\u001b[0m                              Traceback (most recent call last)",
      "Cell \u001b[0;32mIn[8], line 1\u001b[0m\n\u001b[0;32m----> 1\u001b[0m ky_sl \u001b[38;5;241m=\u001b[39m \u001b[43mCollection\u001b[49m\u001b[38;5;241;43m.\u001b[39;49m\u001b[43mfrom_id\u001b[49m\u001b[43m(\u001b[49m\u001b[38;5;241;43m38381360\u001b[39;49m\u001b[43m)\u001b[49m\n",
      "File \u001b[0;32m~/Projects/directory-issues/directory_issues/__init__.py:144\u001b[0m, in \u001b[0;36mCollection.from_id\u001b[0;34m(cls, collection_id)\u001b[0m\n\u001b[1;32m    141\u001b[0m \u001b[38;5;129m@classmethod\u001b[39m\n\u001b[1;32m    142\u001b[0m \u001b[38;5;28;01mdef\u001b[39;00m \u001b[38;5;21mfrom_id\u001b[39m(\u001b[38;5;28mcls\u001b[39m, collection_id:\u001b[38;5;28mint\u001b[39m):\n\u001b[1;32m    143\u001b[0m     mc_client \u001b[38;5;241m=\u001b[39m mc_api\u001b[38;5;241m.\u001b[39mDirectoryApi(config\u001b[38;5;241m.\u001b[39mmc_api_token)\n\u001b[0;32m--> 144\u001b[0m     collection \u001b[38;5;241m=\u001b[39m \u001b[43mmc_client\u001b[49m\u001b[38;5;241;43m.\u001b[39;49m\u001b[43mcollection\u001b[49m\u001b[43m(\u001b[49m\u001b[43mcollection_id\u001b[49m\u001b[43m)\u001b[49m\n\u001b[1;32m    145\u001b[0m     \u001b[38;5;28;01mreturn\u001b[39;00m Collection(collection)\n",
      "File \u001b[0;32m/opt/homebrew/lib/python3.11/site-packages/mediacloud/api.py:68\u001b[0m, in \u001b[0;36mDirectoryApi.collection\u001b[0;34m(self, collection_id)\u001b[0m\n\u001b[1;32m     66\u001b[0m \u001b[38;5;28;01mdef\u001b[39;00m \u001b[38;5;21mcollection\u001b[39m(\u001b[38;5;28mself\u001b[39m, collection_id: \u001b[38;5;28mint\u001b[39m):\n\u001b[0;32m---> 68\u001b[0m     \u001b[38;5;28;01mreturn\u001b[39;00m \u001b[38;5;28;43mself\u001b[39;49m\u001b[38;5;241;43m.\u001b[39;49m\u001b[43m_query\u001b[49m\u001b[43m(\u001b[49m\u001b[38;5;124;43mf\u001b[39;49m\u001b[38;5;124;43m'\u001b[39;49m\u001b[38;5;124;43msources/collections/\u001b[39;49m\u001b[38;5;132;43;01m{\u001b[39;49;00m\u001b[43mcollection_id\u001b[49m\u001b[38;5;132;43;01m}\u001b[39;49;00m\u001b[38;5;124;43m/\u001b[39;49m\u001b[38;5;124;43m'\u001b[39;49m\u001b[43m,\u001b[49m\u001b[43m \u001b[49m\u001b[38;5;28;43;01mNone\u001b[39;49;00m\u001b[43m)\u001b[49m\n",
      "File \u001b[0;32m/opt/homebrew/lib/python3.11/site-packages/mediacloud/api.py:55\u001b[0m, in \u001b[0;36mBaseApi._query\u001b[0;34m(self, endpoint, params, method)\u001b[0m\n\u001b[1;32m     53\u001b[0m     \u001b[38;5;28;01mraise\u001b[39;00m \u001b[38;5;167;01mRuntimeError\u001b[39;00m(\u001b[38;5;124mf\u001b[39m\u001b[38;5;124m\"\u001b[39m\u001b[38;5;124mUnsupported method of \u001b[39m\u001b[38;5;124m'\u001b[39m\u001b[38;5;132;01m{\u001b[39;00mmethod\u001b[38;5;132;01m}\u001b[39;00m\u001b[38;5;124m'\u001b[39m\u001b[38;5;124m\"\u001b[39m)\n\u001b[1;32m     54\u001b[0m \u001b[38;5;28;01mif\u001b[39;00m r\u001b[38;5;241m.\u001b[39mstatus_code \u001b[38;5;241m!=\u001b[39m \u001b[38;5;241m200\u001b[39m:\n\u001b[0;32m---> 55\u001b[0m     \u001b[38;5;28;01mraise\u001b[39;00m \u001b[38;5;167;01mRuntimeError\u001b[39;00m(\u001b[38;5;124mf\u001b[39m\u001b[38;5;124m\"\u001b[39m\u001b[38;5;124mAPI Server Error \u001b[39m\u001b[38;5;132;01m{\u001b[39;00mr\u001b[38;5;241m.\u001b[39mstatus_code\u001b[38;5;132;01m}\u001b[39;00m\u001b[38;5;124m. Params: \u001b[39m\u001b[38;5;132;01m{\u001b[39;00mparams\u001b[38;5;132;01m}\u001b[39;00m\u001b[38;5;124m\"\u001b[39m)\n\u001b[1;32m     56\u001b[0m \u001b[38;5;28;01mreturn\u001b[39;00m r\u001b[38;5;241m.\u001b[39mjson()\n",
      "\u001b[0;31mRuntimeError\u001b[0m: API Server Error 401. Params: None"
     ]
    }
   ],
   "source": [
    "ky_sl = Collection.from_id(38381360)"
   ]
  },
  {
   "cell_type": "code",
   "execution_count": null,
   "id": "f6d617e8-cf93-4f24-bb21-ca0e263ed4b4",
   "metadata": {},
   "outputs": [],
   "source": [
    "ky_sl.find_all_issues()"
   ]
  },
  {
   "cell_type": "code",
   "execution_count": null,
   "id": "cbccd057-9a7c-45d9-aa96-25c34fb1cd82",
   "metadata": {},
   "outputs": [],
   "source": [
    "templates = ky_sl.render_source_templates()\n",
    "import random\n",
    "\n",
    "from IPython.display import HTML\n",
    "\n",
    "HTML(random.choice(templates))"
   ]
  },
  {
   "cell_type": "code",
   "execution_count": null,
   "id": "3d4ce4cd-5519-4f14-bfe5-bafcb111a169",
   "metadata": {},
   "outputs": [],
   "source": [
    "import time\n",
    "s = time.time()\n",
    "source = Source.from_id(6, skip_volume=False)\n",
    "e = time.time()\n",
    "print(e-s)"
   ]
  },
  {
   "cell_type": "code",
   "execution_count": 7,
   "id": "bb85f710-8a96-4eb0-8c21-625e3c769b01",
   "metadata": {},
   "outputs": [
    {
     "data": {
      "text/plain": [
       "SourceVolume(150901 stories)"
      ]
     },
     "execution_count": 7,
     "metadata": {},
     "output_type": "execute_result"
    }
   ],
   "source": [
    "source.source_volume"
   ]
  },
  {
   "cell_type": "code",
   "execution_count": null,
   "id": "afebcd62-9b46-4912-8cb5-f01247cd6378",
   "metadata": {},
   "outputs": [],
   "source": []
  }
 ],
 "metadata": {
  "kernelspec": {
   "display_name": "Python 3 (ipykernel)",
   "language": "python",
   "name": "python3"
  },
  "language_info": {
   "codemirror_mode": {
    "name": "ipython",
    "version": 3
   },
   "file_extension": ".py",
   "mimetype": "text/x-python",
   "name": "python",
   "nbconvert_exporter": "python",
   "pygments_lexer": "ipython3",
   "version": "3.11.9"
  }
 },
 "nbformat": 4,
 "nbformat_minor": 5
}
