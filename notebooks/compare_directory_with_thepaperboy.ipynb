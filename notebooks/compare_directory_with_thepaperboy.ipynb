{
 "cells": [
  {
   "cell_type": "markdown",
   "id": "54d7fc19-6491-4897-8d22-f3cabdb69de2",
   "metadata": {},
   "source": [
    "# Comparing Sources: MediaCloud News Collections vs. thepaperboy.com"
   ]
  },
  {
   "cell_type": "code",
   "execution_count": 8,
   "id": "b73a6072-a564-4800-84c2-6be1c5f5c877",
   "metadata": {},
   "outputs": [],
   "source": [
    "import pandas as pd\n",
    "import requests\n",
    "import mcmetadata\n",
    "import json\n",
    "import os"
   ]
  },
  {
   "cell_type": "code",
   "execution_count": 2,
   "id": "7c69def8-b7b7-4038-b5bd-3cafa682114c",
   "metadata": {},
   "outputs": [],
   "source": [
    "def download_file_from_google_drive(file_id, output_filename):\n",
    "    url = f\"https://drive.google.com/uc?id={file_id}\"\n",
    "    response = requests.get(url, stream=True)\n",
    "\n",
    "    if response.status_code == 200:\n",
    "        with open(output_filename, \"wb\") as file:\n",
    "            for chunk in response.iter_content(chunk_size=8192):\n",
    "                file.write(chunk)\n",
    "        print(f\"File downloaded successfully as {output_filename}\")\n",
    "    else:\n",
    "        print(f\"Failed to download file. Status code: {response.status_code}\")"
   ]
  },
  {
   "cell_type": "code",
   "execution_count": 3,
   "id": "035691b9-fea1-47e0-93b8-27dd7bce2a21",
   "metadata": {},
   "outputs": [],
   "source": [
    "def extract_social_media_urls(social_media_json):\n",
    "    try:\n",
    "        if social_media_json:\n",
    "            urls = [list(item.values())[0] for item in social_media_json]\n",
    "        return '; '.join(urls)\n",
    "    except:\n",
    "        pass\n",
    "    return ''"
   ]
  },
  {
   "cell_type": "code",
   "execution_count": 4,
   "id": "cb0b1d79-a3d8-4e23-b34b-4ccdd9c19b1e",
   "metadata": {},
   "outputs": [
    {
     "name": "stdout",
     "output_type": "stream",
     "text": [
      "File downloaded successfully as tmp/the_paperboy_sources.json\n"
     ]
    }
   ],
   "source": [
    "the_paperboy_sources_file=\"tmp/the_paperboy_sources.json\"\n",
    "download_file_from_google_drive(\"1VViBh3TnpNqgh5zyYu58iuQbA1nuEGOZ\",the_paperboy_sources_file)"
   ]
  },
  {
   "cell_type": "code",
   "execution_count": 5,
   "id": "62f9a36d-8fb3-4115-a2c5-c85a201e6736",
   "metadata": {},
   "outputs": [
    {
     "name": "stdout",
     "output_type": "stream",
     "text": [
      "File downloaded successfully as tmp/mediacloud_sources_part_0.csv\n",
      "File downloaded successfully as tmp/mediacloud_sources_part_1.csv\n",
      "File downloaded successfully as tmp/mediacloud_sources_part_2.csv\n",
      "File downloaded successfully as tmp/mediacloud_sources_part_3.csv\n",
      "File downloaded successfully as tmp/mediacloud_sources_part_4.csv\n"
     ]
    }
   ],
   "source": [
    "# We have to split Mediacloud sources to easily download them from Google Drive\n",
    "mediacloud_sources_files = [\n",
    "    \"1ED1INjhodMV1jZeFKFMrphjE0K5wR5mE\",\n",
    "    \"1ck1uGpr-J4NdwPAr-wnPiU6gGViI_Zfk\",\n",
    "    \"1853yFlD-GupaxU6xuG0UJsMFn4w11f0N\",\n",
    "    \"1C2BH2HSx30qsQTBZNIO2odEakwSgyCeq\",\n",
    "    \"1oTJfWa1meZbEJoIC4EVGh935wv-OpVzb\",\n",
    "]\n",
    "for index, mediacloud_sources_file in enumerate(mediacloud_sources_files):\n",
    "    download_file_from_google_drive(mediacloud_sources_file, f\"tmp/mediacloud_sources_part_{index}.csv\")"
   ]
  },
  {
   "cell_type": "code",
   "execution_count": 10,
   "id": "c7dffe28-5f41-4e2a-a0fc-3903e4ad2138",
   "metadata": {},
   "outputs": [
    {
     "name": "stdout",
     "output_type": "stream",
     "text": [
      "Reaading tmp/mediacloud_sources_part_0.csv\n",
      "Reaading tmp/mediacloud_sources_part_1.csv\n",
      "Reaading tmp/mediacloud_sources_part_2.csv\n",
      "Reaading tmp/mediacloud_sources_part_3.csv\n",
      "Reaading tmp/mediacloud_sources_part_4.csv\n"
     ]
    }
   ],
   "source": [
    "dataframes = []\n",
    "for i in range(5):\n",
    "    file = f\"tmp/mediacloud_sources_part_{i}.csv\"\n",
    "    print(\"Reaading \"+file)\n",
    "    if os.path.exists(file):\n",
    "        df = pd.read_csv(file)\n",
    "        dataframes.append(df)\n",
    "    else:\n",
    "        print(f\"File not found: {file}\")\n",
    "mediacloud_df = pd.concat(dataframes, ignore_index=True)"
   ]
  },
  {
   "cell_type": "code",
   "execution_count": 11,
   "id": "33a2d15e-13f3-471f-97de-5e5e1571d499",
   "metadata": {},
   "outputs": [],
   "source": [
    "the_paperboy_df = pd.read_json(the_paperboy_sources_file)"
   ]
  },
  {
   "cell_type": "code",
   "execution_count": 12,
   "id": "193edd1f-51bc-48fd-9070-8b71a5a078f0",
   "metadata": {},
   "outputs": [],
   "source": [
    "the_paperboy_df[\"canonical_domain\"] = the_paperboy_df[\"url\"].apply(mcmetadata.urls.canonical_domain)"
   ]
  },
  {
   "cell_type": "code",
   "execution_count": 15,
   "id": "3dc84841-057a-4c74-8a4f-65a020b840b6",
   "metadata": {},
   "outputs": [],
   "source": [
    "the_paperboy_df['social_media_urls'] = the_paperboy_df['social_media'].apply(extract_social_media_urls)"
   ]
  },
  {
   "cell_type": "markdown",
   "id": "eedf536d-71f8-4d33-ab11-c1ff4cef3b00",
   "metadata": {},
   "source": [
    "### Get sources that were scraped from `thepaperboy.com` but not present in MediaCloud directory  "
   ]
  },
  {
   "cell_type": "code",
   "execution_count": 16,
   "id": "3e4abc4e-0f8e-4cdd-8556-1c70a81a24c6",
   "metadata": {},
   "outputs": [
    {
     "data": {
      "text/html": [
       "<div>\n",
       "<style scoped>\n",
       "    .dataframe tbody tr th:only-of-type {\n",
       "        vertical-align: middle;\n",
       "    }\n",
       "\n",
       "    .dataframe tbody tr th {\n",
       "        vertical-align: top;\n",
       "    }\n",
       "\n",
       "    .dataframe thead th {\n",
       "        text-align: right;\n",
       "    }\n",
       "</style>\n",
       "<table border=\"1\" class=\"dataframe\">\n",
       "  <thead>\n",
       "    <tr style=\"text-align: right;\">\n",
       "      <th></th>\n",
       "      <th>state</th>\n",
       "      <th>country</th>\n",
       "      <th>url</th>\n",
       "      <th>city</th>\n",
       "      <th>language</th>\n",
       "      <th>name</th>\n",
       "      <th>description</th>\n",
       "      <th>social_media</th>\n",
       "      <th>canonical_domain</th>\n",
       "      <th>social_media_urls</th>\n",
       "    </tr>\n",
       "  </thead>\n",
       "  <tbody>\n",
       "    <tr>\n",
       "      <th>1</th>\n",
       "      <td>Kabul</td>\n",
       "      <td>Afghanistan</td>\n",
       "      <td>http://afghan-sports.com/</td>\n",
       "      <td>Kabul</td>\n",
       "      <td>English</td>\n",
       "      <td>Afghan Sports</td>\n",
       "      <td>NaN</td>\n",
       "      <td>NaN</td>\n",
       "      <td>afghan-sports.com</td>\n",
       "      <td></td>\n",
       "    </tr>\n",
       "    <tr>\n",
       "      <th>17</th>\n",
       "      <td>Tirane</td>\n",
       "      <td>Albania</td>\n",
       "      <td>http://www.albania-sport.com/</td>\n",
       "      <td>Tirana</td>\n",
       "      <td>Albanian</td>\n",
       "      <td>Albania Sport</td>\n",
       "      <td>NaN</td>\n",
       "      <td>NaN</td>\n",
       "      <td>albania-sport.com</td>\n",
       "      <td></td>\n",
       "    </tr>\n",
       "    <tr>\n",
       "      <th>30</th>\n",
       "      <td>Oran</td>\n",
       "      <td>Algeria</td>\n",
       "      <td>http://www.quotidien-oran.com/</td>\n",
       "      <td>Oran Rp</td>\n",
       "      <td>French</td>\n",
       "      <td>Le Quotidien d'Oran</td>\n",
       "      <td>NaN</td>\n",
       "      <td>NaN</td>\n",
       "      <td>quotidien-oran.com</td>\n",
       "      <td></td>\n",
       "    </tr>\n",
       "    <tr>\n",
       "      <th>37</th>\n",
       "      <td>Saint John</td>\n",
       "      <td>Antigua and Barbuda</td>\n",
       "      <td>http://www.antiguasunonline.com/</td>\n",
       "      <td>St. John's</td>\n",
       "      <td>English</td>\n",
       "      <td>Antigua Sun</td>\n",
       "      <td>NaN</td>\n",
       "      <td>NaN</td>\n",
       "      <td>antiguasunonline.com</td>\n",
       "      <td></td>\n",
       "    </tr>\n",
       "    <tr>\n",
       "      <th>44</th>\n",
       "      <td>Chubut</td>\n",
       "      <td>Argentina</td>\n",
       "      <td>http://www.diarioeloeste.com.ar/</td>\n",
       "      <td>Comodoro Rivadavia</td>\n",
       "      <td>Spanish</td>\n",
       "      <td>Diario El Oeste</td>\n",
       "      <td>NaN</td>\n",
       "      <td>NaN</td>\n",
       "      <td>diarioeloeste.com.ar</td>\n",
       "      <td></td>\n",
       "    </tr>\n",
       "    <tr>\n",
       "      <th>...</th>\n",
       "      <td>...</td>\n",
       "      <td>...</td>\n",
       "      <td>...</td>\n",
       "      <td>...</td>\n",
       "      <td>...</td>\n",
       "      <td>...</td>\n",
       "      <td>...</td>\n",
       "      <td>...</td>\n",
       "      <td>...</td>\n",
       "      <td>...</td>\n",
       "    </tr>\n",
       "    <tr>\n",
       "      <th>11617</th>\n",
       "      <td>Wisconsin</td>\n",
       "      <td>United States</td>\n",
       "      <td>http://www.freemanol.com/</td>\n",
       "      <td>Waukesha</td>\n",
       "      <td>English</td>\n",
       "      <td>Waukesha Freeman</td>\n",
       "      <td>The Waukesha Freeman is a prominent newspaper ...</td>\n",
       "      <td>[{'Facebook': 'https://www.facebook.com/Waukes...</td>\n",
       "      <td>freemanol.com</td>\n",
       "      <td>https://www.facebook.com/WaukeshaFreeman; http...</td>\n",
       "    </tr>\n",
       "    <tr>\n",
       "      <th>11625</th>\n",
       "      <td>Wyoming</td>\n",
       "      <td>United States</td>\n",
       "      <td>http://www.campbellcountyobserver.net/</td>\n",
       "      <td>Gillette</td>\n",
       "      <td>English</td>\n",
       "      <td>Campbell County Observer</td>\n",
       "      <td>The Campbell County Observer newspaper is a pr...</td>\n",
       "      <td>[{'Facebook': 'https://www.facebook.com/pages/...</td>\n",
       "      <td>campbellcountyobserver.net</td>\n",
       "      <td>https://www.facebook.com/pages/Campbell-County...</td>\n",
       "    </tr>\n",
       "    <tr>\n",
       "      <th>11628</th>\n",
       "      <td>Wyoming</td>\n",
       "      <td>United States</td>\n",
       "      <td>http://www.cheyennenetwork.com/</td>\n",
       "      <td>Cheyenne</td>\n",
       "      <td>English</td>\n",
       "      <td>Cheyenne Network</td>\n",
       "      <td>The Cheyenne Network newspaper is a prominent ...</td>\n",
       "      <td>[{'Facebook': 'https://www.facebook.com/pages/...</td>\n",
       "      <td>cheyennenetwork.com</td>\n",
       "      <td>https://www.facebook.com/pages/Wyoming-Network...</td>\n",
       "    </tr>\n",
       "    <tr>\n",
       "      <th>11631</th>\n",
       "      <td>Wyoming</td>\n",
       "      <td>United States</td>\n",
       "      <td>http://www.theglenrockbird.com/</td>\n",
       "      <td>Glenrock</td>\n",
       "      <td>English</td>\n",
       "      <td>Glenrock Bird</td>\n",
       "      <td>The Glenrock Bird newspaper serves as the voic...</td>\n",
       "      <td>[{'Facebook': 'https://www.facebook.com/TheGle...</td>\n",
       "      <td>theglenrockbird.com</td>\n",
       "      <td>https://www.facebook.com/TheGlenrockBird</td>\n",
       "    </tr>\n",
       "    <tr>\n",
       "      <th>11646</th>\n",
       "      <td>Wyoming</td>\n",
       "      <td>United States</td>\n",
       "      <td>http://www.rawlinsnetwork.com/</td>\n",
       "      <td>Rawlins</td>\n",
       "      <td>English</td>\n",
       "      <td>Rawlins Network</td>\n",
       "      <td>The Rawlins Network newspaper is a prominent s...</td>\n",
       "      <td>[{'Facebook': 'https://www.facebook.com/pages/...</td>\n",
       "      <td>rawlinsnetwork.com</td>\n",
       "      <td>https://www.facebook.com/pages/Wyoming-Network...</td>\n",
       "    </tr>\n",
       "  </tbody>\n",
       "</table>\n",
       "<p>2174 rows × 10 columns</p>\n",
       "</div>"
      ],
      "text/plain": [
       "            state              country  \\\n",
       "1           Kabul          Afghanistan   \n",
       "17         Tirane              Albania   \n",
       "30           Oran              Algeria   \n",
       "37     Saint John  Antigua and Barbuda   \n",
       "44         Chubut            Argentina   \n",
       "...           ...                  ...   \n",
       "11617   Wisconsin        United States   \n",
       "11625     Wyoming        United States   \n",
       "11628     Wyoming        United States   \n",
       "11631     Wyoming        United States   \n",
       "11646     Wyoming        United States   \n",
       "\n",
       "                                          url                city  language  \\\n",
       "1                   http://afghan-sports.com/               Kabul   English   \n",
       "17              http://www.albania-sport.com/              Tirana  Albanian   \n",
       "30             http://www.quotidien-oran.com/             Oran Rp    French   \n",
       "37           http://www.antiguasunonline.com/          St. John's   English   \n",
       "44           http://www.diarioeloeste.com.ar/  Comodoro Rivadavia   Spanish   \n",
       "...                                       ...                 ...       ...   \n",
       "11617               http://www.freemanol.com/            Waukesha   English   \n",
       "11625  http://www.campbellcountyobserver.net/            Gillette   English   \n",
       "11628         http://www.cheyennenetwork.com/            Cheyenne   English   \n",
       "11631         http://www.theglenrockbird.com/            Glenrock   English   \n",
       "11646          http://www.rawlinsnetwork.com/             Rawlins   English   \n",
       "\n",
       "                           name  \\\n",
       "1                 Afghan Sports   \n",
       "17                Albania Sport   \n",
       "30          Le Quotidien d'Oran   \n",
       "37                  Antigua Sun   \n",
       "44              Diario El Oeste   \n",
       "...                         ...   \n",
       "11617          Waukesha Freeman   \n",
       "11625  Campbell County Observer   \n",
       "11628          Cheyenne Network   \n",
       "11631             Glenrock Bird   \n",
       "11646           Rawlins Network   \n",
       "\n",
       "                                             description  \\\n",
       "1                                                    NaN   \n",
       "17                                                   NaN   \n",
       "30                                                   NaN   \n",
       "37                                                   NaN   \n",
       "44                                                   NaN   \n",
       "...                                                  ...   \n",
       "11617  The Waukesha Freeman is a prominent newspaper ...   \n",
       "11625  The Campbell County Observer newspaper is a pr...   \n",
       "11628  The Cheyenne Network newspaper is a prominent ...   \n",
       "11631  The Glenrock Bird newspaper serves as the voic...   \n",
       "11646  The Rawlins Network newspaper is a prominent s...   \n",
       "\n",
       "                                            social_media  \\\n",
       "1                                                    NaN   \n",
       "17                                                   NaN   \n",
       "30                                                   NaN   \n",
       "37                                                   NaN   \n",
       "44                                                   NaN   \n",
       "...                                                  ...   \n",
       "11617  [{'Facebook': 'https://www.facebook.com/Waukes...   \n",
       "11625  [{'Facebook': 'https://www.facebook.com/pages/...   \n",
       "11628  [{'Facebook': 'https://www.facebook.com/pages/...   \n",
       "11631  [{'Facebook': 'https://www.facebook.com/TheGle...   \n",
       "11646  [{'Facebook': 'https://www.facebook.com/pages/...   \n",
       "\n",
       "                 canonical_domain  \\\n",
       "1               afghan-sports.com   \n",
       "17              albania-sport.com   \n",
       "30             quotidien-oran.com   \n",
       "37           antiguasunonline.com   \n",
       "44           diarioeloeste.com.ar   \n",
       "...                           ...   \n",
       "11617               freemanol.com   \n",
       "11625  campbellcountyobserver.net   \n",
       "11628         cheyennenetwork.com   \n",
       "11631         theglenrockbird.com   \n",
       "11646          rawlinsnetwork.com   \n",
       "\n",
       "                                       social_media_urls  \n",
       "1                                                         \n",
       "17                                                        \n",
       "30                                                        \n",
       "37                                                        \n",
       "44                                                        \n",
       "...                                                  ...  \n",
       "11617  https://www.facebook.com/WaukeshaFreeman; http...  \n",
       "11625  https://www.facebook.com/pages/Campbell-County...  \n",
       "11628  https://www.facebook.com/pages/Wyoming-Network...  \n",
       "11631           https://www.facebook.com/TheGlenrockBird  \n",
       "11646  https://www.facebook.com/pages/Wyoming-Network...  \n",
       "\n",
       "[2174 rows x 10 columns]"
      ]
     },
     "execution_count": 16,
     "metadata": {},
     "output_type": "execute_result"
    }
   ],
   "source": [
    "mediacloud_urls = set(mediacloud_df['name'])\n",
    "mask = ~the_paperboy_df['canonical_domain'].isin(mediacloud_urls)\n",
    "filtered_df = the_paperboy_df[mask].copy()\n",
    "filtered_df"
   ]
  },
  {
   "cell_type": "markdown",
   "id": "10a6d4b3-3eb9-4baa-9737-00b7903235ba",
   "metadata": {},
   "source": [
    "### Export the content to CSV"
   ]
  },
  {
   "cell_type": "markdown",
   "id": "17757a80-e709-4def-914b-e031312b2479",
   "metadata": {},
   "source": [
    "#### Exporting all thepaperboy.com sources"
   ]
  },
  {
   "cell_type": "code",
   "execution_count": 17,
   "id": "d31e8ea1-9079-4775-8993-5e7b6ea8bd01",
   "metadata": {},
   "outputs": [],
   "source": [
    "the_paperboy_df = the_paperboy_df.drop(columns=['social_media'])\n",
    "the_paperboy_df.to_csv('tmp/all_sources_from_thepaperboy.csv', index=False)"
   ]
  },
  {
   "cell_type": "markdown",
   "id": "f13c7723-d4dd-429e-a0bc-031168e21e4f",
   "metadata": {},
   "source": [
    "#### Exporting all sources from thepaperboy.com not present in the MediaCloud directory"
   ]
  },
  {
   "cell_type": "code",
   "execution_count": 18,
   "id": "b3ad278e-4a36-445d-92d6-1d3cd38713b2",
   "metadata": {},
   "outputs": [],
   "source": [
    "filtered_df.head()\n",
    "filtered_df.to_csv('tmp/sources_in_thepaperboy_not_in_mc.csv', index=False)"
   ]
  },
  {
   "cell_type": "code",
   "execution_count": null,
   "id": "a971f960-b6b2-4acb-9475-353a419136c0",
   "metadata": {},
   "outputs": [],
   "source": []
  }
 ],
 "metadata": {
  "kernelspec": {
   "display_name": "Python 3 (ipykernel)",
   "language": "python",
   "name": "python3"
  },
  "language_info": {
   "codemirror_mode": {
    "name": "ipython",
    "version": 3
   },
   "file_extension": ".py",
   "mimetype": "text/x-python",
   "name": "python",
   "nbconvert_exporter": "python",
   "pygments_lexer": "ipython3",
   "version": "3.11.6"
  }
 },
 "nbformat": 4,
 "nbformat_minor": 5
}
