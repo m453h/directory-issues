{
 "cells": [
  {
   "cell_type": "markdown",
   "id": "481eec8c-dd2d-4b7e-8b65-7c236e0bb633",
   "metadata": {},
   "source": [
    "# Usage of StorySniffer\n",
    "\n",
    "This notebook show how we can use the StorrySniffer library to Inspect a URL and estimate if it contains a news story."
   ]
  },
  {
   "cell_type": "code",
   "execution_count": 92,
   "id": "09007160-f7b9-47d2-9f51-bcaf0f7485c4",
   "metadata": {},
   "outputs": [
    {
     "name": "stdout",
     "output_type": "stream",
     "text": [
      "Requirement already satisfied: scikit-learn==1.5.1 in /Users/michael/Documents/Workspace/Python/directory-issues/.venv/lib/python3.11/site-packages (1.5.1)\n",
      "Requirement already satisfied: numpy>=1.19.5 in /Users/michael/Documents/Workspace/Python/directory-issues/.venv/lib/python3.11/site-packages (from scikit-learn==1.5.1) (2.1.3)\n",
      "Requirement already satisfied: scipy>=1.6.0 in /Users/michael/Documents/Workspace/Python/directory-issues/.venv/lib/python3.11/site-packages (from scikit-learn==1.5.1) (1.14.1)\n",
      "Requirement already satisfied: joblib>=1.2.0 in /Users/michael/Documents/Workspace/Python/directory-issues/.venv/lib/python3.11/site-packages (from scikit-learn==1.5.1) (1.4.2)\n",
      "Requirement already satisfied: threadpoolctl>=3.1.0 in /Users/michael/Documents/Workspace/Python/directory-issues/.venv/lib/python3.11/site-packages (from scikit-learn==1.5.1) (3.5.0)\n",
      "\n",
      "\u001b[1m[\u001b[0m\u001b[34;49mnotice\u001b[0m\u001b[1;39;49m]\u001b[0m\u001b[39;49m A new release of pip is available: \u001b[0m\u001b[31;49m24.2\u001b[0m\u001b[39;49m -> \u001b[0m\u001b[32;49m24.3.1\u001b[0m\n",
      "\u001b[1m[\u001b[0m\u001b[34;49mnotice\u001b[0m\u001b[1;39;49m]\u001b[0m\u001b[39;49m To update, run: \u001b[0m\u001b[32;49mpip install --upgrade pip\u001b[0m\n",
      "Requirement already satisfied: storysniffer in /Users/michael/Documents/Workspace/Python/directory-issues/.venv/lib/python3.11/site-packages (1.0.7)\n",
      "Requirement already satisfied: tldextract in /Users/michael/Documents/Workspace/Python/directory-issues/.venv/lib/python3.11/site-packages (from storysniffer) (5.1.3)\n",
      "Requirement already satisfied: scikit-learn in /Users/michael/Documents/Workspace/Python/directory-issues/.venv/lib/python3.11/site-packages (from storysniffer) (1.5.1)\n",
      "Requirement already satisfied: skops in /Users/michael/Documents/Workspace/Python/directory-issues/.venv/lib/python3.11/site-packages (from storysniffer) (0.10.0)\n",
      "Requirement already satisfied: pandas in /Users/michael/Documents/Workspace/Python/directory-issues/.venv/lib/python3.11/site-packages (from storysniffer) (2.2.3)\n",
      "Requirement already satisfied: numpy>=1.23.2 in /Users/michael/Documents/Workspace/Python/directory-issues/.venv/lib/python3.11/site-packages (from pandas->storysniffer) (2.1.3)\n",
      "Requirement already satisfied: python-dateutil>=2.8.2 in /Users/michael/Documents/Workspace/Python/directory-issues/.venv/lib/python3.11/site-packages (from pandas->storysniffer) (2.9.0.post0)\n",
      "Requirement already satisfied: pytz>=2020.1 in /Users/michael/Documents/Workspace/Python/directory-issues/.venv/lib/python3.11/site-packages (from pandas->storysniffer) (2024.2)\n",
      "Requirement already satisfied: tzdata>=2022.7 in /Users/michael/Documents/Workspace/Python/directory-issues/.venv/lib/python3.11/site-packages (from pandas->storysniffer) (2024.2)\n",
      "Requirement already satisfied: scipy>=1.6.0 in /Users/michael/Documents/Workspace/Python/directory-issues/.venv/lib/python3.11/site-packages (from scikit-learn->storysniffer) (1.14.1)\n",
      "Requirement already satisfied: joblib>=1.2.0 in /Users/michael/Documents/Workspace/Python/directory-issues/.venv/lib/python3.11/site-packages (from scikit-learn->storysniffer) (1.4.2)\n",
      "Requirement already satisfied: threadpoolctl>=3.1.0 in /Users/michael/Documents/Workspace/Python/directory-issues/.venv/lib/python3.11/site-packages (from scikit-learn->storysniffer) (3.5.0)\n",
      "Requirement already satisfied: huggingface-hub>=0.17.0 in /Users/michael/Documents/Workspace/Python/directory-issues/.venv/lib/python3.11/site-packages (from skops->storysniffer) (0.26.5)\n",
      "Requirement already satisfied: tabulate>=0.8.8 in /Users/michael/Documents/Workspace/Python/directory-issues/.venv/lib/python3.11/site-packages (from skops->storysniffer) (0.9.0)\n",
      "Requirement already satisfied: packaging>=17.0 in /Users/michael/Documents/Workspace/Python/directory-issues/.venv/lib/python3.11/site-packages (from skops->storysniffer) (24.2)\n",
      "Requirement already satisfied: idna in /Users/michael/Documents/Workspace/Python/directory-issues/.venv/lib/python3.11/site-packages (from tldextract->storysniffer) (3.10)\n",
      "Requirement already satisfied: requests>=2.1.0 in /Users/michael/Documents/Workspace/Python/directory-issues/.venv/lib/python3.11/site-packages (from tldextract->storysniffer) (2.32.3)\n",
      "Requirement already satisfied: requests-file>=1.4 in /Users/michael/Documents/Workspace/Python/directory-issues/.venv/lib/python3.11/site-packages (from tldextract->storysniffer) (2.1.0)\n",
      "Requirement already satisfied: filelock>=3.0.8 in /Users/michael/Documents/Workspace/Python/directory-issues/.venv/lib/python3.11/site-packages (from tldextract->storysniffer) (3.16.1)\n",
      "Requirement already satisfied: fsspec>=2023.5.0 in /Users/michael/Documents/Workspace/Python/directory-issues/.venv/lib/python3.11/site-packages (from huggingface-hub>=0.17.0->skops->storysniffer) (2024.10.0)\n",
      "Requirement already satisfied: pyyaml>=5.1 in /Users/michael/Documents/Workspace/Python/directory-issues/.venv/lib/python3.11/site-packages (from huggingface-hub>=0.17.0->skops->storysniffer) (6.0.2)\n",
      "Requirement already satisfied: tqdm>=4.42.1 in /Users/michael/Documents/Workspace/Python/directory-issues/.venv/lib/python3.11/site-packages (from huggingface-hub>=0.17.0->skops->storysniffer) (4.67.1)\n",
      "Requirement already satisfied: typing-extensions>=3.7.4.3 in /Users/michael/Documents/Workspace/Python/directory-issues/.venv/lib/python3.11/site-packages (from huggingface-hub>=0.17.0->skops->storysniffer) (4.12.2)\n",
      "Requirement already satisfied: six>=1.5 in /Users/michael/Documents/Workspace/Python/directory-issues/.venv/lib/python3.11/site-packages (from python-dateutil>=2.8.2->pandas->storysniffer) (1.16.0)\n",
      "Requirement already satisfied: charset-normalizer<4,>=2 in /Users/michael/Documents/Workspace/Python/directory-issues/.venv/lib/python3.11/site-packages (from requests>=2.1.0->tldextract->storysniffer) (3.4.0)\n",
      "Requirement already satisfied: urllib3<3,>=1.21.1 in /Users/michael/Documents/Workspace/Python/directory-issues/.venv/lib/python3.11/site-packages (from requests>=2.1.0->tldextract->storysniffer) (2.2.3)\n",
      "Requirement already satisfied: certifi>=2017.4.17 in /Users/michael/Documents/Workspace/Python/directory-issues/.venv/lib/python3.11/site-packages (from requests>=2.1.0->tldextract->storysniffer) (2024.8.30)\n",
      "\n",
      "\u001b[1m[\u001b[0m\u001b[34;49mnotice\u001b[0m\u001b[1;39;49m]\u001b[0m\u001b[39;49m A new release of pip is available: \u001b[0m\u001b[31;49m24.2\u001b[0m\u001b[39;49m -> \u001b[0m\u001b[32;49m24.3.1\u001b[0m\n",
      "\u001b[1m[\u001b[0m\u001b[34;49mnotice\u001b[0m\u001b[1;39;49m]\u001b[0m\u001b[39;49m To update, run: \u001b[0m\u001b[32;49mpip install --upgrade pip\u001b[0m\n",
      "Requirement already satisfied: beautifulsoup4 in /Users/michael/Documents/Workspace/Python/directory-issues/.venv/lib/python3.11/site-packages (4.12.3)\n",
      "Requirement already satisfied: soupsieve>1.2 in /Users/michael/Documents/Workspace/Python/directory-issues/.venv/lib/python3.11/site-packages (from beautifulsoup4) (2.6)\n",
      "\n",
      "\u001b[1m[\u001b[0m\u001b[34;49mnotice\u001b[0m\u001b[1;39;49m]\u001b[0m\u001b[39;49m A new release of pip is available: \u001b[0m\u001b[31;49m24.2\u001b[0m\u001b[39;49m -> \u001b[0m\u001b[32;49m24.3.1\u001b[0m\n",
      "\u001b[1m[\u001b[0m\u001b[34;49mnotice\u001b[0m\u001b[1;39;49m]\u001b[0m\u001b[39;49m To update, run: \u001b[0m\u001b[32;49mpip install --upgrade pip\u001b[0m\n",
      "Requirement already satisfied: mediacloud in /Users/michael/Documents/Workspace/Python/directory-issues/.venv/lib/python3.11/site-packages (4.3.0)\n",
      "Requirement already satisfied: requests==2.* in /Users/michael/Documents/Workspace/Python/directory-issues/.venv/lib/python3.11/site-packages (from mediacloud) (2.32.3)\n",
      "Requirement already satisfied: charset-normalizer<4,>=2 in /Users/michael/Documents/Workspace/Python/directory-issues/.venv/lib/python3.11/site-packages (from requests==2.*->mediacloud) (3.4.0)\n",
      "Requirement already satisfied: idna<4,>=2.5 in /Users/michael/Documents/Workspace/Python/directory-issues/.venv/lib/python3.11/site-packages (from requests==2.*->mediacloud) (3.10)\n",
      "Requirement already satisfied: urllib3<3,>=1.21.1 in /Users/michael/Documents/Workspace/Python/directory-issues/.venv/lib/python3.11/site-packages (from requests==2.*->mediacloud) (2.2.3)\n",
      "Requirement already satisfied: certifi>=2017.4.17 in /Users/michael/Documents/Workspace/Python/directory-issues/.venv/lib/python3.11/site-packages (from requests==2.*->mediacloud) (2024.8.30)\n",
      "\n",
      "\u001b[1m[\u001b[0m\u001b[34;49mnotice\u001b[0m\u001b[1;39;49m]\u001b[0m\u001b[39;49m A new release of pip is available: \u001b[0m\u001b[31;49m24.2\u001b[0m\u001b[39;49m -> \u001b[0m\u001b[32;49m24.3.1\u001b[0m\n",
      "\u001b[1m[\u001b[0m\u001b[34;49mnotice\u001b[0m\u001b[1;39;49m]\u001b[0m\u001b[39;49m To update, run: \u001b[0m\u001b[32;49mpip install --upgrade pip\u001b[0m\n"
     ]
    }
   ],
   "source": [
    "!pip install scikit-learn==1.5.1 # Going beyond this version can cause errors\n",
    "!pip install storysniffer\n",
    "!pip install beautifulsoup4\n",
    "!pip install mediacloud"
   ]
  },
  {
   "cell_type": "markdown",
   "id": "b55f321d-6467-424e-b2a4-d7c2c53073e5",
   "metadata": {},
   "source": [
    "## Using the Story Sniffer to estimate if a URL is a news story"
   ]
  },
  {
   "cell_type": "code",
   "execution_count": 93,
   "id": "34ce3bae-d536-481a-b1e2-854fb8761c35",
   "metadata": {},
   "outputs": [],
   "source": [
    "def display_result(url, result):\n",
    "    if result:\n",
    "        print(f\"{url} is pointing to a news story\")\n",
    "    else:\n",
    "        print(f\"{url} is not pointing to a news story\")"
   ]
  },
  {
   "cell_type": "markdown",
   "id": "7e9a40a8-da9a-49b3-8822-baa960a94e95",
   "metadata": {},
   "source": [
    "### Using only the URL to evaluate if it is a news story or not"
   ]
  },
  {
   "cell_type": "code",
   "execution_count": 94,
   "id": "549fe9fc-8807-4c29-b24c-16c09a592a6b",
   "metadata": {},
   "outputs": [
    {
     "name": "stdout",
     "output_type": "stream",
     "text": [
      "https://www.nytimes.com/2024/12/11/crosswords/connections-companion-550.html is pointing to a news story\n"
     ]
    }
   ],
   "source": [
    "from storysniffer import StorySniffer\n",
    "sniffer = StorySniffer()\n",
    "url = \"https://www.nytimes.com/2024/12/11/crosswords/connections-companion-550.html\"\n",
    "display_result(url, sniffer.guess(url))"
   ]
  },
  {
   "cell_type": "code",
   "execution_count": 95,
   "id": "d750d20f-d7bd-4ed5-8f51-8201266b6fea",
   "metadata": {},
   "outputs": [
    {
     "name": "stdout",
     "output_type": "stream",
     "text": [
      "https://www.nytimes.com/ is not pointing to a news story\n"
     ]
    }
   ],
   "source": [
    "url = \"https://www.nytimes.com/\"\n",
    "display_result(url, sniffer.guess(url))"
   ]
  },
  {
   "cell_type": "markdown",
   "id": "6b0bd1e2-d104-430b-b637-ffac484cbe49",
   "metadata": {},
   "source": [
    "#### Testing multiple URLs that are not pointing to news stories"
   ]
  },
  {
   "cell_type": "code",
   "execution_count": 96,
   "id": "65d0f4f4-e541-4e6c-9cc4-b2c770be6ea4",
   "metadata": {},
   "outputs": [
    {
     "name": "stdout",
     "output_type": "stream",
     "text": [
      "https://www.nytimes.com/section/world is not pointing to a news story\n",
      "https://www.nytimes.com/subscription/all-access?campaignId=8WULY&channel=odisplay&areas=banner&campaign=AllAccessAcquisition is not pointing to a news story\n",
      "https://www.nytimes.com/section/world/europe is not pointing to a news story\n",
      "https://help.nytimes.com/hc/en-us/articles/115015385887-Contact-The-New-York-Times is not pointing to a news story\n",
      "https://help.nytimes.com/hc/en-us is not pointing to a news story\n",
      " is not pointing to a news story\n"
     ]
    }
   ],
   "source": [
    "urls = [\n",
    "    \"https://www.nytimes.com/section/world\",\n",
    "    \"https://www.nytimes.com/subscription/all-access?campaignId=8WULY&channel=odisplay&areas=banner&campaign=AllAccessAcquisition\",\n",
    "    \"https://www.nytimes.com/section/world/europe\",\n",
    "    \"https://help.nytimes.com/hc/en-us/articles/115015385887-Contact-The-New-York-Times\",\n",
    "    \"https://help.nytimes.com/hc/en-us\",\n",
    "    \"\"\n",
    "]\n",
    "for url in urls:\n",
    "    display_result(url, sniffer.guess(url))"
   ]
  },
  {
   "cell_type": "markdown",
   "id": "b6baa15b-a9fc-4080-bc72-e0fb0af1e0ae",
   "metadata": {},
   "source": [
    "**Preliminary Results:** It appears the model is mostly able to correctly identify if a URL structure points to a news story"
   ]
  },
  {
   "cell_type": "markdown",
   "id": "f3449974-a541-4672-b212-60e32524bb6e",
   "metadata": {},
   "source": [
    "### Using only the URL and Text from a website to evaluate if it is a news story or not"
   ]
  },
  {
   "cell_type": "markdown",
   "id": "63dfe9f1-0113-40b0-9d3d-d36f25e76e7f",
   "metadata": {},
   "source": [
    "As per the documentation - \"If you have a text string, like the page’s `<title>` tag or the contents of an `<a>` tag, you can pass that in as an additional clue\""
   ]
  },
  {
   "cell_type": "markdown",
   "id": "12e65e08-efae-4fff-992e-a49c62934fd8",
   "metadata": {},
   "source": [
    "We can use http://sktoday.com/ (Currently, this site has multiple URLs that all point to the homepage, so relying solely on the URL pattern will not be sufficient to classify it as pointing to a news story)"
   ]
  },
  {
   "cell_type": "markdown",
   "id": "40b73ed6-06bc-43fa-a361-8d3de501d184",
   "metadata": {},
   "source": [
    "**Using the Title text to improve our guessing**"
   ]
  },
  {
   "cell_type": "code",
   "execution_count": 97,
   "id": "f80b8ee4-c70c-49e5-ab97-a127dc531ef9",
   "metadata": {},
   "outputs": [],
   "source": [
    "import requests\n",
    "from bs4 import BeautifulSoup"
   ]
  },
  {
   "cell_type": "code",
   "execution_count": 98,
   "id": "b2e18717-4e39-4f9f-ad5b-a4952459e35d",
   "metadata": {},
   "outputs": [
    {
     "name": "stdout",
     "output_type": "stream",
     "text": [
      "http://sktoday.com/ is not pointing to a news story\n"
     ]
    }
   ],
   "source": [
    "url =\"http://sktoday.com/\"\n",
    "response = requests.get(url)\n",
    "soup = BeautifulSoup(response.text, 'lxml')\n",
    "title = soup.title.string\n",
    "display_result(url, sniffer.guess(url,text=title))"
   ]
  },
  {
   "cell_type": "code",
   "execution_count": 99,
   "id": "7e4a2e45-d1cd-4217-8040-85efbca33d79",
   "metadata": {},
   "outputs": [
    {
     "name": "stdout",
     "output_type": "stream",
     "text": [
      "http://sktoday.com/content/2233_ministry-foreign-affairs-slovak-republic-appreciates-course-ukrainian-parliamentary-ele is pointing to a news story\n"
     ]
    }
   ],
   "source": [
    "url =\"http://sktoday.com/content/2233_ministry-foreign-affairs-slovak-republic-appreciates-course-ukrainian-parliamentary-ele\"\n",
    "response = requests.get(url)\n",
    "soup = BeautifulSoup(response.text, 'lxml')\n",
    "title = soup.title.string\n",
    "display_result(url, sniffer.guess(url,text=title))"
   ]
  },
  {
   "cell_type": "markdown",
   "id": "766207c8-5bc1-4503-b9a3-67ef36923865",
   "metadata": {},
   "source": [
    "**Adding the full HTML response in another attempt to improve the model performance**"
   ]
  },
  {
   "cell_type": "code",
   "execution_count": 100,
   "id": "0db60745-44dd-4dd0-a938-56d0fd2d08c2",
   "metadata": {},
   "outputs": [
    {
     "name": "stdout",
     "output_type": "stream",
     "text": [
      "http://sktoday.com/content/2233_ministry-foreign-affairs-slovak-republic-appreciates-course-ukrainian-parliamentary-ele is pointing to a news story\n"
     ]
    }
   ],
   "source": [
    "url =\"http://sktoday.com/content/2233_ministry-foreign-affairs-slovak-republic-appreciates-course-ukrainian-parliamentary-ele\"\n",
    "response = requests.get(url)\n",
    "display_result(url, sniffer.guess(url,text=response.text))"
   ]
  },
  {
   "cell_type": "markdown",
   "id": "185e9216-c67d-4470-a808-99368f22541e",
   "metadata": {},
   "source": [
    "**Preliminary Results:** Adding text does not seem to improve the model's ability to predict whether a URL points to a story. In other words, the structure of the URL appears to have a greater impact on the model's performance. Is the model not content aware"
   ]
  }
 ],
 "metadata": {
  "kernelspec": {
   "display_name": "Python 3 (ipykernel)",
   "language": "python",
   "name": "python3"
  },
  "language_info": {
   "codemirror_mode": {
    "name": "ipython",
    "version": 3
   },
   "file_extension": ".py",
   "mimetype": "text/x-python",
   "name": "python",
   "nbconvert_exporter": "python",
   "pygments_lexer": "ipython3",
   "version": "3.11.6"
  }
 },
 "nbformat": 4,
 "nbformat_minor": 5
}
